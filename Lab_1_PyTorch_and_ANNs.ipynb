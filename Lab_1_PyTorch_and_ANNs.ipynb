{
  "nbformat": 4,
  "nbformat_minor": 0,
  "metadata": {
    "colab": {
      "name": "Lab_1_PyTorch_and_ANNs.ipynb",
      "provenance": [],
      "collapsed_sections": [],
      "toc_visible": true,
      "include_colab_link": true
    },
    "kernelspec": {
      "display_name": "Python 3",
      "language": "python",
      "name": "python3"
    },
    "language_info": {
      "codemirror_mode": {
        "name": "ipython",
        "version": 3
      },
      "file_extension": ".py",
      "mimetype": "text/x-python",
      "name": "python",
      "nbconvert_exporter": "python",
      "pygments_lexer": "ipython3",
      "version": "3.7.4"
    }
  },
  "cells": [
    {
      "cell_type": "markdown",
      "metadata": {
        "id": "view-in-github",
        "colab_type": "text"
      },
      "source": [
        "<a href=\"https://colab.research.google.com/github/vemodalen/aps360_lab1/blob/master/Lab_1_PyTorch_and_ANNs.ipynb\" target=\"_parent\"><img src=\"https://colab.research.google.com/assets/colab-badge.svg\" alt=\"Open In Colab\"/></a>"
      ]
    },
    {
      "cell_type": "markdown",
      "metadata": {
        "colab_type": "text",
        "id": "3sxa8YxCbzGL"
      },
      "source": [
        "# Lab 1. PyTorch and ANNs\n",
        "\n",
        "**Deadline**: Thursday, January 23, 11:59pm.\n",
        "\n",
        "**Total**: 30 Points\n",
        "\n",
        "**Late Penalty**: There is a penalty-free grace period of one hour past the deadline. Any work that is submitted between 1 hour and 24 hours past the deadline will receive a 20% grade deduction. No other late work is accepted. Quercus submission time will be used, not your local computer time. You can submit your labs as many times as you want before the deadline, so please submit often and early.\n",
        "\n",
        "**Grading TA**: Kevin Course\n",
        "\n",
        "This lab is partially based on an assignment developed by Prof. Jonathan Rose and Harris Chan.\n",
        "\n",
        "This lab is a warm up to get you used to the PyTorch programming environment used\n",
        "in the course, and also to help you review and renew your knowledge\n",
        "of Python and relevant Python libraries.\n",
        "The lab must be done individually. Please recall that the\n",
        "University of Toronto plagarism rules apply.\n",
        "\n",
        "By the end of this lab, you should be able to:\n",
        "\n",
        "1. Be able to perform basic PyTorch tensor operations.\n",
        "2. Be able to load data into PyTorch\n",
        "3. Be able to configure an Artificial Neural Network (ANN) using PyTorch\n",
        "4. Be able to train ANNs using PyTorch\n",
        "5. Be able to evaluate different ANN configuations\n",
        "\n",
        "You will need to use numpy and PyTorch documentations for this assignment:\n",
        "\n",
        "* https://docs.scipy.org/doc/numpy/reference/\n",
        "* https://pytorch.org/docs/stable/torch.html\n",
        "\n",
        "You can also reference Python API documentations freely.\n",
        "\n",
        "\n",
        "### What to submit\n",
        "\n",
        "Submit a PDF file containing all your code, outputs, and write-up\n",
        "from parts 1-5. You can produce a PDF of your Google Colab file by\n",
        "going to **File > Print** and then save as PDF. The Colab instructions\n",
        "has more information.\n",
        "\n",
        "**Do not submit any other files produced by your code.**\n",
        "\n",
        "Include a link to your colab file in your submission.\n",
        "\n",
        "Please use Google Colab to complete this assignment. If you want to use Jupyter Notebook, please complete the assignment and upload your Jupyter Notebook file to Google Colab for submission. \n",
        "\n",
        "With Colab, you can export a PDF file using the menu option\n",
        "`File -> Print` and save as PDF file."
      ]
    },
    {
      "cell_type": "markdown",
      "metadata": {
        "colab_type": "text",
        "id": "_TlLBrWBIGt0"
      },
      "source": [
        "## Colab Link\n",
        "\n",
        "Submit make sure to include a link to your colab file here\n",
        "\n",
        "Colab Link:  [https://colab.research.google.com/github/vemodalen/aps360_lab1/blob/master/Lab_1_PyTorch_and_ANNs.ipynb#scrollTo=GGtthiz1tDh5](https://colab.research.google.com/github/vemodalen/aps360_lab1/blob/master/Lab_1_PyTorch_and_ANNs.ipynb#scrollTo=GGtthiz1tDh5)"
      ]
    },
    {
      "cell_type": "markdown",
      "metadata": {
        "colab_type": "text",
        "id": "mALD3Y2bbzGT"
      },
      "source": [
        "## Part 1. Python Basics [3 pt]\n",
        "\n",
        "The purpose of this section is to get you used to the \n",
        "basics of Python, including working with functions, numbers,\n",
        "lists, and strings.\n",
        "\n",
        "Note that we **will** be checking your code for clarity and efficiency.\n",
        "\n",
        "If you have trouble with this part of the assignment, please review http://cs231n.github.io/python-numpy-tutorial/"
      ]
    },
    {
      "cell_type": "markdown",
      "metadata": {
        "colab_type": "text",
        "id": "7gimRTE9bzGa"
      },
      "source": [
        "### Part (a) -- 1pt\n",
        "\n",
        "Write a function `sum_of_cubes` that computes the sum of cubes up to `n`. If the input to `sum_of_cubes` invalid (e.g. negative or non-integer `n`), the function should print out `\"Invalid input\"` and return `-1`."
      ]
    },
    {
      "cell_type": "code",
      "metadata": {
        "colab_type": "code",
        "id": "fifG_Wv6bzGf",
        "outputId": "d2a7c278-d020-4d43-d0a4-79eb00346256",
        "colab": {
          "base_uri": "https://localhost:8080/",
          "height": 51
        }
      },
      "source": [
        "def sum_of_cubes(n):\n",
        "    \"\"\"Return the sum (1^3 + 2^3 + 3^3 + ... + n^3)\n",
        "    \n",
        "    Precondition: n > 0, type(n) == int\n",
        "    \n",
        "    >>> sum_of_cubes(3)\n",
        "    36\n",
        "    >>> sum_of_cubes(1)\n",
        "    1\n",
        "    \"\"\"\n",
        "\n",
        "    accum = 0\n",
        "\n",
        "    if (type(n) != int) or (n < 0):\n",
        "      print(\"Invalid Input\")\n",
        "      return -1\n",
        "\n",
        "    for i in range(1, n+1):\n",
        "\n",
        "      accum += i**3\n",
        "\n",
        "    return accum\n",
        "\n",
        "sum_of_cubes(-1)\n",
        "sum_of_cubes(4)"
      ],
      "execution_count": 0,
      "outputs": [
        {
          "output_type": "stream",
          "text": [
            "Invalid Input\n"
          ],
          "name": "stdout"
        },
        {
          "output_type": "execute_result",
          "data": {
            "text/plain": [
              "100"
            ]
          },
          "metadata": {
            "tags": []
          },
          "execution_count": 13
        }
      ]
    },
    {
      "cell_type": "markdown",
      "metadata": {
        "colab_type": "text",
        "id": "bOxDP8AlbzG2"
      },
      "source": [
        "### Part (b) -- 1pt\n",
        "\n",
        "Write a function `word_lengths` that takes a sentence (string), computes the length of each word in that sentence, and returns the length of each word in a list. You can\n",
        "assume that words are always separated by a space character `\" \"`.\n",
        "\n",
        "Hint: recall the `str.split` function in Python.\n",
        "If you arenot sure how this function works, try\n",
        "typing `help(str.split)` into a Python shell, or check out https://docs.python.org/3.6/library/stdtypes.html#str.split"
      ]
    },
    {
      "cell_type": "code",
      "metadata": {
        "colab_type": "code",
        "id": "H84jlGrVbzG5",
        "outputId": "7636c149-ea95-4949-c4e4-04e9625c9181",
        "colab": {
          "base_uri": "https://localhost:8080/",
          "height": 204
        }
      },
      "source": [
        "help(str.split)"
      ],
      "execution_count": 0,
      "outputs": [
        {
          "output_type": "stream",
          "text": [
            "Help on method_descriptor:\n",
            "\n",
            "split(...)\n",
            "    S.split(sep=None, maxsplit=-1) -> list of strings\n",
            "    \n",
            "    Return a list of the words in S, using sep as the\n",
            "    delimiter string.  If maxsplit is given, at most maxsplit\n",
            "    splits are done. If sep is not specified or is None, any\n",
            "    whitespace string is a separator and empty strings are\n",
            "    removed from the result.\n",
            "\n"
          ],
          "name": "stdout"
        }
      ]
    },
    {
      "cell_type": "code",
      "metadata": {
        "colab_type": "code",
        "id": "w1lbnwgsbzHG",
        "outputId": "56caa916-1a6d-498c-fa33-34b1173a77b0",
        "colab": {
          "base_uri": "https://localhost:8080/",
          "height": 34
        }
      },
      "source": [
        "def word_lengths(sentence):\n",
        "    \"\"\"Return a list containing the length of each word in\n",
        "    sentence.\n",
        "    \n",
        "    >>> word_lengths(\"welcome to APS360!\")\n",
        "    [7, 2, 7]\n",
        "    >>> word_lengths(\"machine learning is so cool\")\n",
        "    [7, 8, 2, 2, 4]\n",
        "    \"\"\"\n",
        "    words = sentence.split()\n",
        "    word_length = [len(i) for i in words]\n",
        "\n",
        "    return word_length\n",
        "\n",
        "word_lengths(\"This is a test\")"
      ],
      "execution_count": 0,
      "outputs": [
        {
          "output_type": "execute_result",
          "data": {
            "text/plain": [
              "[4, 2, 1, 4]"
            ]
          },
          "metadata": {
            "tags": []
          },
          "execution_count": 20
        }
      ]
    },
    {
      "cell_type": "markdown",
      "metadata": {
        "colab_type": "text",
        "id": "iCsnzu4NIGuD"
      },
      "source": [
        "### Part (c) -- 1pt\n",
        "\n",
        "Write a function `all_same_length` that takes a sentence (string),\n",
        "and checks whether every word in the string is the same length.\n",
        "You should call the function `word_lengths` in the body\n",
        "of this new function.\n"
      ]
    },
    {
      "cell_type": "code",
      "metadata": {
        "colab_type": "code",
        "id": "Z-7qytZEIGuE",
        "outputId": "c06e3499-9820-41da-b80e-714f077fb875",
        "colab": {
          "base_uri": "https://localhost:8080/",
          "height": 51
        }
      },
      "source": [
        "def all_same_length(sentence):\n",
        "    \"\"\"Return True if every word in sentence has the same\n",
        "    length, and False otherwise.\n",
        "    \n",
        "    >>> all_same_length(\"all same length\")\n",
        "    False\n",
        "    >>> word_lengths(\"hello world\")\n",
        "    True\n",
        "    \"\"\"\n",
        "\n",
        "    word_length = word_lengths(sentence)\n",
        "    if len(set(word_length)) == 1:\n",
        "      return True\n",
        "\n",
        "    else:\n",
        "      return False\n",
        "\n",
        "\n",
        "print(all_same_length(\"Test test test\"))\n",
        "print(all_same_length(\"all same length\"))"
      ],
      "execution_count": 0,
      "outputs": [
        {
          "output_type": "stream",
          "text": [
            "True\n",
            "False\n"
          ],
          "name": "stdout"
        }
      ]
    },
    {
      "cell_type": "markdown",
      "metadata": {
        "colab_type": "text",
        "id": "yUh1MySTbzHT"
      },
      "source": [
        "## Part 2. NumPy Exercises [5 pt]\n",
        "\n",
        "In this part of the assignment, you'll be manipulating arrays \n",
        "usign NumPy. Normally, we use the shorter name `np` to represent\n",
        "the package `numpy`."
      ]
    },
    {
      "cell_type": "code",
      "metadata": {
        "colab_type": "code",
        "id": "H2opcxqMbzHW",
        "colab": {}
      },
      "source": [
        "import numpy as np"
      ],
      "execution_count": 0,
      "outputs": []
    },
    {
      "cell_type": "markdown",
      "metadata": {
        "colab_type": "text",
        "id": "Ek29jdqPbzHf"
      },
      "source": [
        "### Part (a) -- 1pt\n",
        "\n",
        "The below variables `matrix` and `vector` are numpy arrays. Explain what you think `<NumpyArray>.size` and `<NumpyArray>.shape` represent."
      ]
    },
    {
      "cell_type": "code",
      "metadata": {
        "colab_type": "code",
        "id": "Z6eniOV2bzHi",
        "colab": {}
      },
      "source": [
        "matrix = np.array([[1., 2., 3., 0.5],\n",
        "                   [4., 5., 0., 0.],\n",
        "                   [-1., -2., 1., 1.]])\n",
        "vector = np.array([2., 0., 1., -2.])"
      ],
      "execution_count": 0,
      "outputs": []
    },
    {
      "cell_type": "code",
      "metadata": {
        "colab_type": "code",
        "id": "JMIy15dKIGuP",
        "outputId": "5c5d916e-20d1-46d9-8519-02ffe6c3d568",
        "colab": {
          "base_uri": "https://localhost:8080/",
          "height": 34
        }
      },
      "source": [
        "matrix.size"
      ],
      "execution_count": 0,
      "outputs": [
        {
          "output_type": "execute_result",
          "data": {
            "text/plain": [
              "12"
            ]
          },
          "metadata": {
            "tags": []
          },
          "execution_count": 31
        }
      ]
    },
    {
      "cell_type": "code",
      "metadata": {
        "colab_type": "code",
        "id": "QoHaPzDNbzHo",
        "scrolled": true,
        "outputId": "fee3ea22-0700-4caa-9757-ad45c2c8a8ff",
        "colab": {
          "base_uri": "https://localhost:8080/",
          "height": 34
        }
      },
      "source": [
        "matrix.shape"
      ],
      "execution_count": 0,
      "outputs": [
        {
          "output_type": "execute_result",
          "data": {
            "text/plain": [
              "(3, 4)"
            ]
          },
          "metadata": {
            "tags": []
          },
          "execution_count": 32
        }
      ]
    },
    {
      "cell_type": "code",
      "metadata": {
        "colab_type": "code",
        "id": "dErt6w25bzHu",
        "outputId": "90a26ca3-9836-4012-c936-dc2c725c52a8",
        "colab": {
          "base_uri": "https://localhost:8080/",
          "height": 34
        }
      },
      "source": [
        "vector.size"
      ],
      "execution_count": 0,
      "outputs": [
        {
          "output_type": "execute_result",
          "data": {
            "text/plain": [
              "4"
            ]
          },
          "metadata": {
            "tags": []
          },
          "execution_count": 33
        }
      ]
    },
    {
      "cell_type": "code",
      "metadata": {
        "colab_type": "code",
        "id": "TXhHCchIIGua",
        "outputId": "a6079b5d-c7db-44a9-daf1-76bab80f0fa7",
        "colab": {
          "base_uri": "https://localhost:8080/",
          "height": 34
        }
      },
      "source": [
        "vector.shape"
      ],
      "execution_count": 0,
      "outputs": [
        {
          "output_type": "execute_result",
          "data": {
            "text/plain": [
              "(4,)"
            ]
          },
          "metadata": {
            "tags": []
          },
          "execution_count": 34
        }
      ]
    },
    {
      "cell_type": "markdown",
      "metadata": {
        "id": "WJRu2P6CR886",
        "colab_type": "text"
      },
      "source": [
        "**Answer:** `<NumpyArray>.size` is the number of elements in the array, `<NumpyArray>.shape` is the dimensions of the array"
      ]
    },
    {
      "cell_type": "markdown",
      "metadata": {
        "colab_type": "text",
        "id": "9PQ-pRIlbzH8"
      },
      "source": [
        "### Part (b) -- 1pt\n",
        "\n",
        "Perform matrix multiplication `output = matrix x vector` by using\n",
        "for loops to iterate through the columns and rows.\n",
        "Do not use any builtin NumPy functions.\n",
        "Cast your output into a NumPy array, if it isn't one already.\n",
        "\n",
        "Hint: be mindful of the dimension of output"
      ]
    },
    {
      "cell_type": "code",
      "metadata": {
        "colab_type": "code",
        "id": "SXnZFii2bzH-",
        "colab": {}
      },
      "source": [
        "output = None\n",
        "\n",
        "temp = []\n",
        "for i in matrix:\n",
        "  temp_1 = 0;\n",
        "  for j in range(0,len(i)):\n",
        "    temp_1 += vector[j]*i[j]\n",
        "  temp += [temp_1]\n",
        "output = np.array(temp)"
      ],
      "execution_count": 0,
      "outputs": []
    },
    {
      "cell_type": "code",
      "metadata": {
        "colab_type": "code",
        "id": "BiIVqVvvbzII",
        "outputId": "96de80c1-a8f8-4df5-a9b7-c965b013392f",
        "colab": {
          "base_uri": "https://localhost:8080/",
          "height": 34
        }
      },
      "source": [
        "output"
      ],
      "execution_count": 0,
      "outputs": [
        {
          "output_type": "execute_result",
          "data": {
            "text/plain": [
              "array([ 4.,  8., -3.])"
            ]
          },
          "metadata": {
            "tags": []
          },
          "execution_count": 43
        }
      ]
    },
    {
      "cell_type": "markdown",
      "metadata": {
        "colab_type": "text",
        "id": "O5UhbilNbzIP"
      },
      "source": [
        "### Part (c) -- 1pt\n",
        "\n",
        "Perform matrix multiplication `output2 = matrix x vector` by using\n",
        "the function `numpy.dot`.\n",
        "\n",
        "We will never actually write code as in\n",
        "part(c), not only because `numpy.dot` is more concise and easier to read/write, but also performance-wise `numpy.dot` is much faster (it is written in C and highly optimized).\n",
        "In general, we will avoid for loops in our code."
      ]
    },
    {
      "cell_type": "code",
      "metadata": {
        "colab_type": "code",
        "id": "e8dLVrMEbzIR",
        "colab": {}
      },
      "source": [
        "output2 = None\n",
        "output2 = np.dot(matrix,vector)"
      ],
      "execution_count": 0,
      "outputs": []
    },
    {
      "cell_type": "code",
      "metadata": {
        "colab_type": "code",
        "id": "X1LqY1eKbzIV",
        "outputId": "987e1bd8-18ea-4d6b-d917-55e522e4db41",
        "colab": {
          "base_uri": "https://localhost:8080/",
          "height": 34
        }
      },
      "source": [
        "output2"
      ],
      "execution_count": 0,
      "outputs": [
        {
          "output_type": "execute_result",
          "data": {
            "text/plain": [
              "array([ 4.,  8., -3.])"
            ]
          },
          "metadata": {
            "tags": []
          },
          "execution_count": 45
        }
      ]
    },
    {
      "cell_type": "markdown",
      "metadata": {
        "colab_type": "text",
        "id": "77XioX6vbzIb"
      },
      "source": [
        "### Part (d) -- 1pt\n",
        "\n",
        "As a way to test for consistency, show that the two outputs match."
      ]
    },
    {
      "cell_type": "code",
      "metadata": {
        "colab_type": "code",
        "id": "1Vc-Nvf0bzIc",
        "outputId": "546a57b2-6c12-4215-9164-20a4d03b51b9",
        "colab": {
          "base_uri": "https://localhost:8080/",
          "height": 34
        }
      },
      "source": [
        "print(output == output2)"
      ],
      "execution_count": 0,
      "outputs": [
        {
          "output_type": "stream",
          "text": [
            "[ True  True  True]\n"
          ],
          "name": "stdout"
        }
      ]
    },
    {
      "cell_type": "markdown",
      "metadata": {
        "colab_type": "text",
        "id": "wjEGmk8oIGur"
      },
      "source": [
        "### Part (e) -- 1pt\n",
        "\n",
        "Show that using `np.dot` is faster than using your code from part (c).\n",
        "\n",
        "You may find the below code snippit helpful:"
      ]
    },
    {
      "cell_type": "code",
      "metadata": {
        "colab_type": "code",
        "id": "XlnE0XO8IGur",
        "outputId": "77a40ad8-c26c-4ec2-c266-dd979e492669",
        "colab": {
          "base_uri": "https://localhost:8080/",
          "height": 34
        }
      },
      "source": [
        "import time\n",
        "\n",
        "# record the time before running code\n",
        "start_time_1 = time.time()\n",
        "\n",
        "# place code to run here\n",
        "\n",
        "output = None\n",
        "\n",
        "temp = []\n",
        "for i in matrix:\n",
        "  temp_1 = 0;\n",
        "  for j in range(0,len(i)):\n",
        "    temp_1 += vector[j]*i[j]\n",
        "  temp += [temp_1]\n",
        "output = np.array(temp)\n",
        "\n",
        "# record the time after the code is run\n",
        "end_time_1 = time.time()\n",
        "\n",
        "# compute the difference\n",
        "diff_1 = end_time_1 - start_time_1\n",
        "print(\"For loop: \", diff_1)"
      ],
      "execution_count": 0,
      "outputs": [
        {
          "output_type": "stream",
          "text": [
            "For loop:  0.0002682209014892578\n"
          ],
          "name": "stdout"
        }
      ]
    },
    {
      "cell_type": "code",
      "metadata": {
        "colab_type": "code",
        "id": "0aBOgCJeIGuv",
        "outputId": "8ce73439-115e-4943-ac46-378ff92d77b4",
        "colab": {
          "base_uri": "https://localhost:8080/",
          "height": 34
        }
      },
      "source": [
        "import time\n",
        "\n",
        "# record the time before running code\n",
        "start_time_2 = time.time()\n",
        "\n",
        "# place code to run here\n",
        "output2 = None\n",
        "output2 = np.dot(matrix,vector)\n",
        "\n",
        "# record the time after the code is run\n",
        "end_time_2 = time.time()\n",
        "\n",
        "# compute the difference\n",
        "diff_2 = end_time_2 - start_time_2\n",
        "print(\"np.dot: \", diff_2)"
      ],
      "execution_count": 0,
      "outputs": [
        {
          "output_type": "stream",
          "text": [
            "np.dot:  8.845329284667969e-05\n"
          ],
          "name": "stdout"
        }
      ]
    },
    {
      "cell_type": "markdown",
      "metadata": {
        "id": "3lClSvhx3FCx",
        "colab_type": "text"
      },
      "source": [
        "We can see that `np.dot` is faster than using the for loops."
      ]
    },
    {
      "cell_type": "markdown",
      "metadata": {
        "colab_type": "text",
        "id": "LbKJjoHHbzI4"
      },
      "source": [
        "## Part 3. Images [6 pt]\n",
        "\n",
        "A picture or image can be represented as a NumPy array of “pixels”, \n",
        "with dimensions H × W × C, where H is the height of the image, W is the width of the image,\n",
        "and C is the number of colour channels. Typically we will use an image with channels that give the the Red, Green, and Blue “level” of each pixel, which is referred to with the short form RGB.\n",
        "\n",
        "You will write Python code to load an image, and perform several array manipulations to the image and visualize their effects. "
      ]
    },
    {
      "cell_type": "code",
      "metadata": {
        "colab_type": "code",
        "id": "FRGQKpEgbzI4",
        "colab": {}
      },
      "source": [
        "import matplotlib.pyplot as plt"
      ],
      "execution_count": 0,
      "outputs": []
    },
    {
      "cell_type": "markdown",
      "metadata": {
        "colab_type": "text",
        "id": "p1D5mtCubzI6"
      },
      "source": [
        "### Part (a) -- 1 pt\n",
        "\n",
        "This is a photograph of a dog whose name is Mochi.\n",
        "\n",
        "![alt text](https://drive.google.com/uc?export=view&id=1oaLVR2hr1_qzpKQ47i9rVUIklwbDcews)\n",
        "\n",
        "Load the image from its url (https://drive.google.com/uc?export=view&id=1oaLVR2hr1_qzpKQ47i9rVUIklwbDcews) into the variable `img` using the `plt.imread` function.\n",
        "\n",
        "Hint: You can enter the URL directly into the `plt.imread` function as a Python string."
      ]
    },
    {
      "cell_type": "code",
      "metadata": {
        "colab_type": "code",
        "id": "RB8lf73vbzI7",
        "colab": {}
      },
      "source": [
        "img = None\n",
        "img = plt.imread(\"https://drive.google.com/uc?export=view&id=1oaLVR2hr1_qzpKQ47i9rVUIklwbDcews\")"
      ],
      "execution_count": 0,
      "outputs": []
    },
    {
      "cell_type": "markdown",
      "metadata": {
        "colab_type": "text",
        "id": "mNli5OsbbzI9"
      },
      "source": [
        "### Part (b) -- 1pt\n",
        "\n",
        "Use the function `plt.imshow` to visualize `img`. \n",
        "\n",
        "This function will also show the coordinate system used to identify pixels.\n",
        "The origin is at the top left corner, and the first dimension indicates the Y (row) direction, \n",
        "and the second dimension indicates the X (column) dimension."
      ]
    },
    {
      "cell_type": "code",
      "metadata": {
        "colab_type": "code",
        "id": "lEeHKc_abzI9",
        "scrolled": false,
        "outputId": "1470f57c-3b1d-4571-8732-9ea67524bb69",
        "colab": {
          "base_uri": "https://localhost:8080/",
          "height": 286
        }
      },
      "source": [
        "plt.imshow(img)"
      ],
      "execution_count": 0,
      "outputs": [
        {
          "output_type": "execute_result",
          "data": {
            "text/plain": [
              "<matplotlib.image.AxesImage at 0x7fb1d8dc6550>"
            ]
          },
          "metadata": {
            "tags": []
          },
          "execution_count": 57
        },
        {
          "output_type": "display_data",
          "data": {
            "image/png": "[encoded data removed]",
            "text/plain": [
              "<Figure size 432x288 with 1 Axes>"
            ]
          },
          "metadata": {
            "tags": []
          }
        }
      ]
    },
    {
      "cell_type": "markdown",
      "metadata": {
        "colab_type": "text",
        "id": "pB-Hx-OFbzJC"
      },
      "source": [
        "### Part (c) -- 2pt\n",
        "\n",
        "Modify the image by adding a constant value of 0.25 to each pixel in the `img` and\n",
        "store the result in the variable `img_add`. Note that, since the range for the pixels \n",
        "needs to be between [0, 1], you will also need to clip img_add to be in the range [0, 1] \n",
        "using `numpy.clip`. Clipping sets any value that is outside of the desired range to the \n",
        "closest endpoint. Display the image using `plt.imshow`."
      ]
    },
    {
      "cell_type": "code",
      "metadata": {
        "colab_type": "code",
        "id": "GWBhZay2bzJC",
        "outputId": "b69bb366-2ba8-4bf1-c0fc-d0e5fc3bd7a7",
        "colab": {
          "base_uri": "https://localhost:8080/",
          "height": 286
        }
      },
      "source": [
        "img_add = None\n",
        "img_add = np.clip(img+0.25, 0, 1)\n",
        "plt.imshow(img_add)"
      ],
      "execution_count": 0,
      "outputs": [
        {
          "output_type": "execute_result",
          "data": {
            "text/plain": [
              "<matplotlib.image.AxesImage at 0x7fb1d84b1d30>"
            ]
          },
          "metadata": {
            "tags": []
          },
          "execution_count": 58
        },
        {
          "output_type": "display_data",
          "data": {
            "image/png": "[encoded data removed]",
            "text/plain": [
              "<Figure size 432x288 with 1 Axes>"
            ]
          },
          "metadata": {
            "tags": []
          }
        }
      ]
    },
    {
      "cell_type": "markdown",
      "metadata": {
        "colab_type": "text",
        "id": "DeinKXBCbzJI"
      },
      "source": [
        "### Part (d) -- 2pt\n",
        "\n",
        "Crop the **original** image (`img` variable) to a 130 x 150 image including Mochi's face. Discard the alpha colour channel (i.e. resulting `img_cropped` should **only have RGB channels**)\n",
        "\n",
        "Display the image."
      ]
    },
    {
      "cell_type": "code",
      "metadata": {
        "id": "DFa9kEtQ4kF5",
        "colab_type": "code",
        "outputId": "af8ee529-48a5-475d-ae38-36dd5d556706",
        "colab": {
          "base_uri": "https://localhost:8080/",
          "height": 286
        }
      },
      "source": [
        "img_cropped = img[0:130,0:150,:3] #HxWxC[0:3]\n",
        "plt.imshow(img_cropped)"
      ],
      "execution_count": 0,
      "outputs": [
        {
          "output_type": "execute_result",
          "data": {
            "text/plain": [
              "<matplotlib.image.AxesImage at 0x7fb1d6bc3fd0>"
            ]
          },
          "metadata": {
            "tags": []
          },
          "execution_count": 59
        },
        {
          "output_type": "display_data",
          "data": {
            "image/png": "[encoded data removed]",
            "text/plain": [
              "<Figure size 432x288 with 1 Axes>"
            ]
          },
          "metadata": {
            "tags": []
          }
        }
      ]
    },
    {
      "cell_type": "markdown",
      "metadata": {
        "colab_type": "text",
        "id": "FmfE9CQdIGva"
      },
      "source": [
        "## Part 4. Basics of PyTorch [6 pt]\n",
        "\n",
        "PyTorch is a Python-based neural networks package. Along with tensorflow, PyTorch is currently one of the most popular machine learning libraries.\n",
        "\n",
        "PyTorch, at its core, is similar to Numpy in a sense that they both \n",
        "try to make it easier to write codes for scientific computing\n",
        "achieve improved performance over vanilla Python by leveraging highly optimized C back-end.\n",
        "However, compare to Numpy, PyTorch offers much better GPU support and provides many high-level features for machine learning. Technically, Numpy can be used to perform almost every thing PyTorch does. However, Numpy would be a lot slower than PyTorch, especially with CUDA GPU, and it would take more effort to write machine learning related code compared to using PyTorch."
      ]
    },
    {
      "cell_type": "code",
      "metadata": {
        "colab_type": "code",
        "id": "ppRPK-X2IGvb",
        "colab": {}
      },
      "source": [
        "import torch"
      ],
      "execution_count": 0,
      "outputs": []
    },
    {
      "cell_type": "markdown",
      "metadata": {
        "colab_type": "text",
        "id": "DXrczIrSIGvf"
      },
      "source": [
        "### Part (a) -- 1 pt\n",
        "\n",
        "Use the function `torch.from_numpy` to convert the numpy array `img_cropped` into\n",
        "a PyTorch tensor. Save the result in a variable called `img_torch`."
      ]
    },
    {
      "cell_type": "code",
      "metadata": {
        "colab_type": "code",
        "id": "j9rYyf4gIGvj",
        "colab": {}
      },
      "source": [
        "img_torch = None\n",
        "img_torch = torch.from_numpy(img_cropped)"
      ],
      "execution_count": 0,
      "outputs": []
    },
    {
      "cell_type": "markdown",
      "metadata": {
        "colab_type": "text",
        "id": "zrpPeRKtIGvn"
      },
      "source": [
        "### Part (b) -- 1pt\n",
        "\n",
        "Use the method `<Tensor>.shape` to find the shape (dimension and size) of `img_torch`."
      ]
    },
    {
      "cell_type": "code",
      "metadata": {
        "colab_type": "code",
        "id": "ws7G_aaxIGvn",
        "outputId": "6a1845ff-8f22-4daf-c674-93188064c2cc",
        "colab": {
          "base_uri": "https://localhost:8080/",
          "height": 34
        }
      },
      "source": [
        "img_torch.shape"
      ],
      "execution_count": 0,
      "outputs": [
        {
          "output_type": "execute_result",
          "data": {
            "text/plain": [
              "torch.Size([130, 150, 3])"
            ]
          },
          "metadata": {
            "tags": []
          },
          "execution_count": 62
        }
      ]
    },
    {
      "cell_type": "markdown",
      "metadata": {
        "colab_type": "text",
        "id": "uorV8t1pIGvp"
      },
      "source": [
        "### Part (c) -- 1pt\n",
        "\n",
        "How many floating-point numbers are stored in the tensor `img_torch`?"
      ]
    },
    {
      "cell_type": "code",
      "metadata": {
        "colab_type": "code",
        "id": "sucaE_VCIGvq",
        "outputId": "d93063f6-8ac7-4cfd-ab95-91e2347624d2",
        "colab": {
          "base_uri": "https://localhost:8080/",
          "height": 34
        }
      },
      "source": [
        "img_torch.numel() #total number of elements; each of which is a floating-point number"
      ],
      "execution_count": 0,
      "outputs": [
        {
          "output_type": "execute_result",
          "data": {
            "text/plain": [
              "58500"
            ]
          },
          "metadata": {
            "tags": []
          },
          "execution_count": 63
        }
      ]
    },
    {
      "cell_type": "markdown",
      "metadata": {
        "colab_type": "text",
        "id": "sIcXGdg5IGvu"
      },
      "source": [
        "### Part (d) -- 1 pt\n",
        "\n",
        "What does the code `img_torch.transpose(0,2)` do? What does the expression return? \n",
        "Is the original variable `img_torch` updated? Explain."
      ]
    },
    {
      "cell_type": "code",
      "metadata": {
        "colab_type": "code",
        "id": "omOJqIhEIGvu",
        "outputId": "51d91767-e409-4743-ec10-80eeaf31c4e3",
        "colab": {
          "base_uri": "https://localhost:8080/",
          "height": 408
        }
      },
      "source": [
        "img_torch.transpose(0,2) #splits the matrix into the three rgb channels - by swapping the dimesions 0 and 2 / transposing.\n",
        "#They share storage, so img_torch is updated : https://pytorch.org/docs/stable/torch.html#torch.transpose"
      ],
      "execution_count": 0,
      "outputs": [
        {
          "output_type": "execute_result",
          "data": {
            "text/plain": [
              "tensor([[[0.5882, 0.5412, 0.6157,  ..., 0.6039, 0.5882, 0.5804],\n",
              "         [0.5765, 0.5647, 0.6196,  ..., 0.6078, 0.6078, 0.6039],\n",
              "         [0.5569, 0.5961, 0.6196,  ..., 0.6118, 0.6196, 0.6235],\n",
              "         ...,\n",
              "         [0.5804, 0.5882, 0.5922,  ..., 0.3804, 0.3882, 0.4196],\n",
              "         [0.6039, 0.6078, 0.6157,  ..., 0.3765, 0.3804, 0.4039],\n",
              "         [0.6157, 0.6196, 0.6275,  ..., 0.3765, 0.3804, 0.3961]],\n",
              "\n",
              "        [[0.3725, 0.3216, 0.3765,  ..., 0.3882, 0.3725, 0.3647],\n",
              "         [0.3608, 0.3451, 0.3843,  ..., 0.3922, 0.3922, 0.3882],\n",
              "         [0.3412, 0.3765, 0.3843,  ..., 0.3961, 0.4039, 0.4078],\n",
              "         ...,\n",
              "         [0.3412, 0.3490, 0.3529,  ..., 0.3098, 0.3176, 0.3373],\n",
              "         [0.3647, 0.3686, 0.3765,  ..., 0.3059, 0.3098, 0.3216],\n",
              "         [0.3765, 0.3804, 0.3882,  ..., 0.3098, 0.3098, 0.3137]],\n",
              "\n",
              "        [[0.1490, 0.0902, 0.1529,  ..., 0.1686, 0.1529, 0.1451],\n",
              "         [0.1373, 0.1137, 0.1490,  ..., 0.1686, 0.1725, 0.1686],\n",
              "         [0.1176, 0.1451, 0.1412,  ..., 0.1725, 0.1804, 0.1882],\n",
              "         ...,\n",
              "         [0.1294, 0.1373, 0.1373,  ..., 0.2157, 0.2314, 0.2549],\n",
              "         [0.1529, 0.1569, 0.1608,  ..., 0.2118, 0.2157, 0.2392],\n",
              "         [0.1647, 0.1686, 0.1725,  ..., 0.2078, 0.2157, 0.2314]]])"
            ]
          },
          "metadata": {
            "tags": []
          },
          "execution_count": 68
        }
      ]
    },
    {
      "cell_type": "markdown",
      "metadata": {
        "colab_type": "text",
        "id": "lHrzC0EqIGvx"
      },
      "source": [
        "### Part (e) -- 1 pt\n",
        "\n",
        "What does the code `img_torch.unsqueeze(0)` do? What does the expression return? \n",
        "Is the original variable `img_torch` updated? Explain."
      ]
    },
    {
      "cell_type": "code",
      "metadata": {
        "colab_type": "code",
        "id": "ZFePj7E5IGvz",
        "outputId": "982a10fa-5d53-4f6e-9c99-01cd84655d56",
        "colab": {
          "base_uri": "https://localhost:8080/",
          "height": 850
        }
      },
      "source": [
        "img_torch.unsqueeze(0) #Reverses the effects of transpose - Returns a new tensor \n",
        "#with a dimension of size one inserted at the specified position.\n",
        "#The returned tensor shares the same underlying data with this tensor. : https://pytorch.org/docs/stable/torch.html#torch.unsqueeze\n"
      ],
      "execution_count": 0,
      "outputs": [
        {
          "output_type": "execute_result",
          "data": {
            "text/plain": [
              "tensor([[[[0.5882, 0.3725, 0.1490],\n",
              "          [0.5765, 0.3608, 0.1373],\n",
              "          [0.5569, 0.3412, 0.1176],\n",
              "          ...,\n",
              "          [0.5804, 0.3412, 0.1294],\n",
              "          [0.6039, 0.3647, 0.1529],\n",
              "          [0.6157, 0.3765, 0.1647]],\n",
              "\n",
              "         [[0.5412, 0.3216, 0.0902],\n",
              "          [0.5647, 0.3451, 0.1137],\n",
              "          [0.5961, 0.3765, 0.1451],\n",
              "          ...,\n",
              "          [0.5882, 0.3490, 0.1373],\n",
              "          [0.6078, 0.3686, 0.1569],\n",
              "          [0.6196, 0.3804, 0.1686]],\n",
              "\n",
              "         [[0.6157, 0.3765, 0.1529],\n",
              "          [0.6196, 0.3843, 0.1490],\n",
              "          [0.6196, 0.3843, 0.1412],\n",
              "          ...,\n",
              "          [0.5922, 0.3529, 0.1373],\n",
              "          [0.6157, 0.3765, 0.1608],\n",
              "          [0.6275, 0.3882, 0.1725]],\n",
              "\n",
              "         ...,\n",
              "\n",
              "         [[0.6039, 0.3882, 0.1686],\n",
              "          [0.6078, 0.3922, 0.1686],\n",
              "          [0.6118, 0.3961, 0.1725],\n",
              "          ...,\n",
              "          [0.3804, 0.3098, 0.2157],\n",
              "          [0.3765, 0.3059, 0.2118],\n",
              "          [0.3765, 0.3098, 0.2078]],\n",
              "\n",
              "         [[0.5882, 0.3725, 0.1529],\n",
              "          [0.6078, 0.3922, 0.1725],\n",
              "          [0.6196, 0.4039, 0.1804],\n",
              "          ...,\n",
              "          [0.3882, 0.3176, 0.2314],\n",
              "          [0.3804, 0.3098, 0.2157],\n",
              "          [0.3804, 0.3098, 0.2157]],\n",
              "\n",
              "         [[0.5804, 0.3647, 0.1451],\n",
              "          [0.6039, 0.3882, 0.1686],\n",
              "          [0.6235, 0.4078, 0.1882],\n",
              "          ...,\n",
              "          [0.4196, 0.3373, 0.2549],\n",
              "          [0.4039, 0.3216, 0.2392],\n",
              "          [0.3961, 0.3137, 0.2314]]]])"
            ]
          },
          "metadata": {
            "tags": []
          },
          "execution_count": 70
        }
      ]
    },
    {
      "cell_type": "markdown",
      "metadata": {
        "colab_type": "text",
        "id": "re16jTB9IGv0"
      },
      "source": [
        "### Part (f) -- 1 pt\n",
        "\n",
        "Find the maximum value of `img_torch` along each colour channel? Your output should be a one-dimensional\n",
        "PyTorch tensor with exactly three values.\n",
        "\n",
        "Hint: lookup the function `torch.max`."
      ]
    },
    {
      "cell_type": "code",
      "metadata": {
        "id": "ZXAXzuOs6mS9",
        "colab_type": "code",
        "outputId": "f9167223-70a9-4d9a-c2c9-27289b0a2228",
        "colab": {
          "base_uri": "https://localhost:8080/",
          "height": 34
        }
      },
      "source": [
        "torch.max(torch.max(img_torch.transpose(0,2),1)[0],1)[0]"
      ],
      "execution_count": 0,
      "outputs": [
        {
          "output_type": "execute_result",
          "data": {
            "text/plain": [
              "tensor([0.8941, 0.7882, 0.6745])"
            ]
          },
          "metadata": {
            "tags": []
          },
          "execution_count": 71
        }
      ]
    },
    {
      "cell_type": "markdown",
      "metadata": {
        "colab_type": "text",
        "id": "3hhA2sX0au0D"
      },
      "source": [
        "## Part 5. Training an ANN [10 pt]\n",
        "\n",
        "The sample code provided below is a 2-layer ANN trained on the MNIST dataset to identify digits less than 3 or greater than and equal to 3. Modify the code by changing any of the following and observe how the accuracy and error are affected:\n",
        "\n",
        "- number of training iterations\n",
        "- number of hidden units\n",
        "- numbers of layers\n",
        "- types of activation functions\n",
        "- learning rate\n",
        "\n"
      ]
    },
    {
      "cell_type": "code",
      "metadata": {
        "colab_type": "code",
        "id": "GGtthiz1tDh5",
        "outputId": "b9228eb0-25e2-44c4-9ed8-eeda2e2a0264",
        "colab": {
          "base_uri": "https://localhost:8080/",
          "height": 85
        }
      },
      "source": [
        "import torch\n",
        "import torch.nn as nn\n",
        "import torch.nn.functional as F\n",
        "from torchvision import datasets, transforms\n",
        "import matplotlib.pyplot as plt # for plotting\n",
        "import torch.optim as optim\n",
        "\n",
        "torch.manual_seed(1) # set the random seed\n",
        "\n",
        "# define a 2-layer artificial neural network\n",
        "class Pigeon(nn.Module):\n",
        "    def __init__(self):\n",
        "        super(Pigeon, self).__init__()\n",
        "        self.layer1 = nn.Linear(28 * 28, 30)\n",
        "        self.layer2 = nn.Linear(30, 1)\n",
        "\n",
        "    def forward(self, img):\n",
        "        flattened = img.view(-1, 28 * 28) # single column vector\n",
        "        activation1 = self.layer1(flattened) # first layer\n",
        "        activation1 = F.relu(activation1) # relu\n",
        "        #activation1 = F.tanh(activation1) # tanh\n",
        "        #activation1 = F.sigmoid(activation1) # sigmoid\n",
        "        activation2 = self.layer2(activation1) # second layer\n",
        "        return activation2\n",
        "\n",
        "pigeon = Pigeon()\n",
        "\n",
        "# load the data\n",
        "mnist_data = datasets.MNIST('data', train=True, download=True)\n",
        "mnist_data = list(mnist_data)\n",
        "mnist_train = mnist_data[:1000]\n",
        "mnist_val   = mnist_data[1000:2000]\n",
        "img_to_tensor = transforms.ToTensor()\n",
        "      \n",
        "    \n",
        "# simplified training code to train `pigeon` on the \"small digit recognition\" task\n",
        "criterion = nn.BCEWithLogitsLoss()\n",
        "optimizer = optim.SGD(pigeon.parameters(), lr=0.005, momentum=0.9)\n",
        "\n",
        "for (image, label) in mnist_train:\n",
        "    # actual ground truth: is the digit less than 3?\n",
        "    actual = torch.tensor(label < 3).reshape([1,1]).type(torch.FloatTensor)\n",
        "    # pigeon prediction\n",
        "    out = pigeon(img_to_tensor(image)) # step 1-2\n",
        "    # update the parameters based on the loss\n",
        "    loss = criterion(out, actual)      # step 3\n",
        "    loss.backward()                    # step 4 (compute the updates for each parameter)\n",
        "    optimizer.step()                   # step 4 (make the updates for each parameter)\n",
        "    optimizer.zero_grad()              # a clean up step for PyTorch\n",
        "\n",
        "# computing the error and accuracy on the training set\n",
        "error = 0\n",
        "for (image, label) in mnist_train:\n",
        "    prob = torch.sigmoid(pigeon(img_to_tensor(image)))\n",
        "    if (prob < 0.5 and label < 3) or (prob >= 0.5 and label >= 3):\n",
        "        error += 1\n",
        "print(\"Training Error Rate:\", error/len(mnist_train))\n",
        "print(\"Training Accuracy:\", 1 - error/len(mnist_train))\n",
        "\n",
        "\n",
        "# computing the error and accuracy on a test set\n",
        "error = 0\n",
        "for (image, label) in mnist_val:\n",
        "    prob = torch.sigmoid(pigeon(img_to_tensor(image)))\n",
        "    if (prob < 0.5 and label < 3) or (prob >= 0.5 and label >= 3):\n",
        "        error += 1\n",
        "print(\"Test Error Rate:\", error/len(mnist_val))\n",
        "print(\"Test Accuracy:\", 1 - error/len(mnist_val))"
      ],
      "execution_count": 49,
      "outputs": [
        {
          "output_type": "stream",
          "text": [
            "Training Error Rate: 0.036\n",
            "Training Accuracy: 0.964\n",
            "Test Error Rate: 0.079\n",
            "Test Accuracy: 0.921\n"
          ],
          "name": "stdout"
        }
      ]
    },
    {
      "cell_type": "markdown",
      "metadata": {
        "colab_type": "text",
        "id": "viYKlFupcgF3"
      },
      "source": [
        "### Part (a) -- 3 pt\n",
        "Comment on which of the above changes resulted in the best accuracy on training data? What accuracy were you able to achieve?"
      ]
    },
    {
      "cell_type": "code",
      "metadata": {
        "colab_type": "code",
        "id": "FMgRXRqiqAEx",
        "colab": {
          "base_uri": "https://localhost:8080/",
          "height": 357
        },
        "outputId": "af642bc0-dcbe-495f-93d6-4f76e7b7b3f6"
      },
      "source": [
        "# Number of training iterations: peaks at 1.0 at Epoch 4, stays there after that\n",
        "    \n",
        "# simplified training code to train `pigeon` on the \"small digit recognition\" task\n",
        "criterion = nn.BCEWithLogitsLoss()\n",
        "optimizer = optim.SGD(pigeon.parameters(), lr=0.005, momentum=0.9)\n",
        "\n",
        "epochs = 20\n",
        "for epoch in range(epochs):\n",
        "  for (image, label) in mnist_train:\n",
        "      # actual ground truth: is the digit less than 3?\n",
        "      actual = torch.tensor(label < 3).reshape([1,1]).type(torch.FloatTensor)\n",
        "      # pigeon prediction\n",
        "      out = pigeon(img_to_tensor(image)) # step 1-2\n",
        "      # update the parameters based on the loss\n",
        "      loss = criterion(out, actual)      # step 3\n",
        "      loss.backward()                    # step 4 (compute the updates for each parameter)\n",
        "      optimizer.step()                   # step 4 (make the updates for each parameter)\n",
        "      optimizer.zero_grad()              # a clean up step for PyTorch\n",
        "\n",
        "  # computing the error and accuracy on the training set\n",
        "  error = 0\n",
        "  for (image, label) in mnist_train:\n",
        "      prob = torch.sigmoid(pigeon(img_to_tensor(image)))\n",
        "      if (prob < 0.5 and label < 3) or (prob >= 0.5 and label >= 3):\n",
        "          error += 1\n",
        "  print(\"Epoch: \", epoch, \"Training Error Rate:\", error/len(mnist_train), \"Training Accuracy:\", 1 - error/len(mnist_train))"
      ],
      "execution_count": 26,
      "outputs": [
        {
          "output_type": "stream",
          "text": [
            "Epoch:  0 Training Error Rate: 0.017 Training Accuracy: 0.983\n",
            "Epoch:  1 Training Error Rate: 0.013 Training Accuracy: 0.987\n",
            "Epoch:  2 Training Error Rate: 0.009 Training Accuracy: 0.991\n",
            "Epoch:  3 Training Error Rate: 0.004 Training Accuracy: 0.996\n",
            "Epoch:  4 Training Error Rate: 0.0 Training Accuracy: 1.0\n",
            "Epoch:  5 Training Error Rate: 0.0 Training Accuracy: 1.0\n",
            "Epoch:  6 Training Error Rate: 0.0 Training Accuracy: 1.0\n",
            "Epoch:  7 Training Error Rate: 0.0 Training Accuracy: 1.0\n",
            "Epoch:  8 Training Error Rate: 0.0 Training Accuracy: 1.0\n",
            "Epoch:  9 Training Error Rate: 0.0 Training Accuracy: 1.0\n",
            "Epoch:  10 Training Error Rate: 0.0 Training Accuracy: 1.0\n",
            "Epoch:  11 Training Error Rate: 0.0 Training Accuracy: 1.0\n",
            "Epoch:  12 Training Error Rate: 0.0 Training Accuracy: 1.0\n",
            "Epoch:  13 Training Error Rate: 0.0 Training Accuracy: 1.0\n",
            "Epoch:  14 Training Error Rate: 0.0 Training Accuracy: 1.0\n",
            "Epoch:  15 Training Error Rate: 0.0 Training Accuracy: 1.0\n",
            "Epoch:  16 Training Error Rate: 0.0 Training Accuracy: 1.0\n",
            "Epoch:  17 Training Error Rate: 0.0 Training Accuracy: 1.0\n",
            "Epoch:  18 Training Error Rate: 0.0 Training Accuracy: 1.0\n",
            "Epoch:  19 Training Error Rate: 0.0 Training Accuracy: 1.0\n"
          ],
          "name": "stdout"
        }
      ]
    },
    {
      "cell_type": "code",
      "metadata": {
        "id": "DhM6FE8yxxZw",
        "colab_type": "code",
        "colab": {
          "base_uri": "https://localhost:8080/",
          "height": 85
        },
        "outputId": "88700c7c-9d82-4285-f473-e59541cef583"
      },
      "source": [
        "# Number of hidden units: Maximum is around 0.987 for 10000 units. We get 0.985 for 3000 units\n",
        "\n",
        "import torch\n",
        "import torch.nn as nn\n",
        "import torch.nn.functional as F\n",
        "from torchvision import datasets, transforms\n",
        "import matplotlib.pyplot as plt # for plotting\n",
        "import torch.optim as optim\n",
        "\n",
        "torch.manual_seed(1) # set the random seed\n",
        "\n",
        "# define a 2-layer artificial neural network\n",
        "class Pigeon(nn.Module):\n",
        "    def __init__(self):\n",
        "        super(Pigeon, self).__init__()\n",
        "        self.layer1 = nn.Linear(28 * 28, 10000)\n",
        "        self.layer2 = nn.Linear(10000, 1)\n",
        "\n",
        "    def forward(self, img):\n",
        "        flattened = img.view(-1, 28 * 28) # single column vector\n",
        "        activation1 = self.layer1(flattened) # first layer\n",
        "        activation1 = F.relu(activation1) # relu\n",
        "        #activation1 = F.tanh(activation1) # tanh\n",
        "        #activation1 = F.sigmoid(activation1) # sigmoid\n",
        "        activation2 = self.layer2(activation1) # second layer\n",
        "        return activation2\n",
        "\n",
        "pigeon = Pigeon()\n",
        "\n",
        "# load the data\n",
        "mnist_data = datasets.MNIST('data', train=True, download=True)\n",
        "mnist_data = list(mnist_data)\n",
        "mnist_train = mnist_data[:1000]\n",
        "mnist_val   = mnist_data[1000:2000]\n",
        "img_to_tensor = transforms.ToTensor()\n",
        "      \n",
        "    \n",
        "# simplified training code to train `pigeon` on the \"small digit recognition\" task\n",
        "criterion = nn.BCEWithLogitsLoss()\n",
        "optimizer = optim.SGD(pigeon.parameters(), lr=0.005, momentum=0.9)\n",
        "\n",
        "for (image, label) in mnist_train:\n",
        "    # actual ground truth: is the digit less than 3?\n",
        "    actual = torch.tensor(label < 3).reshape([1,1]).type(torch.FloatTensor)\n",
        "    # pigeon prediction\n",
        "    out = pigeon(img_to_tensor(image)) # step 1-2\n",
        "    # update the parameters based on the loss\n",
        "    loss = criterion(out, actual)      # step 3\n",
        "    loss.backward()                    # step 4 (compute the updates for each parameter)\n",
        "    optimizer.step()                   # step 4 (make the updates for each parameter)\n",
        "    optimizer.zero_grad()              # a clean up step for PyTorch\n",
        "\n",
        "# computing the error and accuracy on the training set\n",
        "error = 0\n",
        "for (image, label) in mnist_train:\n",
        "    prob = torch.sigmoid(pigeon(img_to_tensor(image)))\n",
        "    if (prob < 0.5 and label < 3) or (prob >= 0.5 and label >= 3):\n",
        "        error += 1\n",
        "print(\"Training Error Rate:\", error/len(mnist_train))\n",
        "print(\"Training Accuracy:\", 1 - error/len(mnist_train))\n",
        "\n",
        "\n",
        "# computing the error and accuracy on a test set\n",
        "error = 0\n",
        "for (image, label) in mnist_val:\n",
        "    prob = torch.sigmoid(pigeon(img_to_tensor(image)))\n",
        "    if (prob < 0.5 and label < 3) or (prob >= 0.5 and label >= 3):\n",
        "        error += 1\n",
        "print(\"Test Error Rate:\", error/len(mnist_val))\n",
        "print(\"Test Accuracy:\", 1 - error/len(mnist_val))\n"
      ],
      "execution_count": 36,
      "outputs": [
        {
          "output_type": "stream",
          "text": [
            "Training Error Rate: 0.013\n",
            "Training Accuracy: 0.987\n",
            "Test Error Rate: 0.056\n",
            "Test Accuracy: 0.944\n"
          ],
          "name": "stdout"
        }
      ]
    },
    {
      "cell_type": "code",
      "metadata": {
        "id": "yvAl0XWPzVuu",
        "colab_type": "code",
        "colab": {}
      },
      "source": [
        "# Number of layers: Add a layer - accuracy is around 0.95 for different splits. Maximum accuracy was for 784 -> 30 -> 5 -> 1 as shown below\n",
        "'''\n",
        "class Pigeon(nn.Module):\n",
        "    def __init__(self):\n",
        "        super(Pigeon, self).__init__()\n",
        "        self.layer1 = nn.Linear(28 * 28, 30)\n",
        "        self.layer2 = nn.Linear(30, 5)\n",
        "        self.layer3 = nn.Linear(5,1)\n",
        "\n",
        "    def forward(self, img):\n",
        "        flattened = img.view(-1, 28 * 28) # single column vector\n",
        "        activation1 = self.layer1(flattened) # first layer\n",
        "        activation1 = F.relu(activation1) # relu\n",
        "        activation2 = self.layer2(activation1) # second layer\n",
        "        activation2 = F.relu(activation2)\n",
        "        activation3 = self.layer3(activation2)\n",
        "        return activation3\n",
        "'''\n",
        "# Type of Activation Function : maximum for ReLu : 0.964 (Sigmoid has 0.927 and Tanh has 0.96)\n",
        "# Learning Rate : maximized at lr = 0.0046 ; accuracy = 0.968  (decreases as we move away)"
      ],
      "execution_count": 0,
      "outputs": []
    },
    {
      "cell_type": "markdown",
      "metadata": {
        "colab_type": "text",
        "id": "pi6bWs7jcIem"
      },
      "source": [
        "### Part (b) -- 3 pt\n",
        "\n",
        "\n",
        "Comment on which of the above changes resulted in the best accuracy on testing data? What accuracy were you able to achieve?"
      ]
    },
    {
      "cell_type": "code",
      "metadata": {
        "colab_type": "code",
        "id": "QtyIrtuNqAh0",
        "colab": {}
      },
      "source": [
        ""
      ],
      "execution_count": 0,
      "outputs": []
    },
    {
      "cell_type": "markdown",
      "metadata": {
        "colab_type": "text",
        "id": "j7W2k347wFqo"
      },
      "source": [
        "### Part (c) -- 4 pt\n",
        "Which model hyperparameters should you use, the ones from (a) or (b)?"
      ]
    },
    {
      "cell_type": "code",
      "metadata": {
        "colab_type": "code",
        "id": "nuESNMuewOnT",
        "colab": {}
      },
      "source": [
        ""
      ],
      "execution_count": 0,
      "outputs": []
    }
  ]
}